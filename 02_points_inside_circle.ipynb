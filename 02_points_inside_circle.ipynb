{
  "nbformat": 4,
  "nbformat_minor": 0,
  "metadata": {
    "colab": {
      "name": "02_points_inside_circle.ipynb",
      "provenance": [],
      "collapsed_sections": [],
      "authorship_tag": "ABX9TyOt2Xesh5IqMidIgrut3o7z",
      "include_colab_link": true
    },
    "kernelspec": {
      "name": "python3",
      "display_name": "Python 3"
    },
    "language_info": {
      "name": "python"
    }
  },
  "cells": [
    {
      "cell_type": "markdown",
      "metadata": {
        "id": "view-in-github",
        "colab_type": "text"
      },
      "source": [
        "<a href=\"https://colab.research.google.com/github/ivandorte/python_gis/blob/main/02_points_inside_circle.ipynb\" target=\"_parent\"><img src=\"https://colab.research.google.com/assets/colab-badge.svg\" alt=\"Open In Colab\"/></a>"
      ]
    },
    {
      "cell_type": "code",
      "metadata": {
        "id": "ao2X-RWnVKPL"
      },
      "source": [
        "from random import randint\n",
        "import matplotlib.pyplot as plt"
      ],
      "execution_count": 35,
      "outputs": []
    },
    {
      "cell_type": "code",
      "metadata": {
        "id": "Qijr0YiUdBRA"
      },
      "source": [
        "# A simple function to check if a point lies inside a circle\n",
        "def inside(point, circle_ctx, circle_radius):\n",
        "    return (point[0] - circle_ctx[0]) ** 2 + (point[1] - circle_ctx[1]) ** 2 <= (circle_radius ** 2)"
      ],
      "execution_count": 2,
      "outputs": []
    },
    {
      "cell_type": "code",
      "metadata": {
        "colab": {
          "base_uri": "https://localhost:8080/",
          "height": 430
        },
        "id": "SwrH2GRmVGR6",
        "outputId": "89bd15c9-992d-4c95-97fa-0d8840b0c253"
      },
      "source": [
        "# Generate some random Points\n",
        "points = [(randint(-6, 6), randint(-6, 6)) for i in range(10)]\n",
        "\n",
        "# A circle with 1,1 centre and a certain radius\n",
        "circle_ctx = (1, 1)\n",
        "circle_radius = 4\n",
        "\n",
        "# Creates a figure and one subplot\n",
        "fig, ax = plt.subplots()\n",
        "\n",
        "# Plot the circle\n",
        "ax.add_patch(plt.Circle(circle_ctx, circle_radius, color='b', alpha=0.1))\n",
        "\n",
        "for pt in points:\n",
        "\n",
        "    # Check if the point lies inside or outside the circle\n",
        "    result = inside(pt, circle_ctx, circle_radius)\n",
        "    if result:\n",
        "        ax.scatter(pt[0], pt[1], c='green') # Green if inside\n",
        "        print(f\"{pt} inside the circle\")\n",
        "    else:\n",
        "        ax.scatter(pt[0], pt[1], c='red', marker = 'x') # Red if outside\n",
        "        print(f\"{pt} outside the circle\")\n",
        "\n",
        "# Show the plot\n",
        "ax.set_aspect('equal', adjustable='datalim')\n",
        "plt.show()"
      ],
      "execution_count": 48,
      "outputs": [
        {
          "output_type": "stream",
          "name": "stdout",
          "text": [
            "(-3, -5) outside the circle\n",
            "(1, -5) outside the circle\n",
            "(-5, 5) outside the circle\n",
            "(3, 2) inside the circle\n",
            "(0, -6) outside the circle\n",
            "(6, 5) outside the circle\n",
            "(-2, 6) outside the circle\n",
            "(-5, -2) outside the circle\n",
            "(4, 0) inside the circle\n",
            "(-4, -5) outside the circle\n"
          ]
        },
        {
          "output_type": "display_data",
          "data": {
            "image/png": "[encoded data removed]",
            "text/plain": [
              "<Figure size 432x288 with 1 Axes>"
            ]
          },
          "metadata": {}
        }
      ]
    }
  ]
}