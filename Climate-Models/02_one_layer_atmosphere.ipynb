{
 "cells": [
  {
   "cell_type": "markdown",
   "metadata": {},
   "source": [
    "<b> One-Layer Atmosphere Model </b><br>\n",
    "Reference: Walter A. Robinson, Modeling Dynamic Climate Systems"
   ]
  },
  {
   "cell_type": "code",
   "execution_count": 1,
   "metadata": {},
   "outputs": [],
   "source": [
    "import numpy as np\n",
    "import matplotlib.pyplot as plt\n",
    "\n",
    "plt.style.use(\"seaborn-dark\")"
   ]
  },
  {
   "cell_type": "code",
   "execution_count": 2,
   "metadata": {},
   "outputs": [],
   "source": [
    "# Step size\n",
    "dt = 0.01\n",
    "\n",
    "# Set up a 10 years simulation\n",
    "tmin = 0\n",
    "tmax = 10\n",
    "t = np.arange(tmin, tmax + dt, dt)\n",
    "n = len(t)\n",
    "\n",
    "# Seconds per year\n",
    "seconds_per_year = 365 * 24 * 60 * 60"
   ]
  },
  {
   "cell_type": "code",
   "execution_count": 3,
   "metadata": {},
   "outputs": [],
   "source": [
    "# Albedo\n",
    "albedo = 0.3\n",
    "\n",
    "# Emissivity\n",
    "e = 0.85\n",
    "\n",
    "# Atmospheric Absorption\n",
    "atmospheric_abs = 0.1\n",
    "\n",
    "# Stefan-Boltzmann constant\n",
    "sigma = 5.6696e-8 # W/m^2*K^4\n",
    "\n",
    "# Solar constant \n",
    "solar_const = 1367 # W/m^2\n",
    "\n",
    "# Density of water\n",
    "water_density = 1000 # kg/m^3\n",
    "\n",
    "# Depth of the mixed layer\n",
    "depth_mixed_layer = 50 # m\n",
    "\n",
    "# Specific heat capacity of water\n",
    "spec_heat_water = 4218 # J/kg*K\n",
    "\n",
    "# Specific heat capacity of atmosphere\n",
    "spec_heat_atm = 1004 # J/kg*K\n",
    "\n",
    "# Gravity accelleration\n",
    "g = 9.81 # m/s^2\n",
    "\n",
    "# Atmospheric pressure\n",
    "atm_press = 1e5; # Pa (kg/m*s^2)\n",
    "\n",
    "# Atmospheric mass\n",
    "mass_atm = atm_press/g;  # kg"
   ]
  },
  {
   "cell_type": "code",
   "execution_count": 4,
   "metadata": {},
   "outputs": [],
   "source": [
    "# Heat capacity water\n",
    "heat_capacity_water = water_density * depth_mixed_layer * spec_heat_water # J/K\n",
    "\n",
    "# Heat capacity atmosphere\n",
    "heat_capacity_atm = mass_atm * spec_heat_atm # J/K"
   ]
  },
  {
   "cell_type": "code",
   "execution_count": 5,
   "metadata": {},
   "outputs": [],
   "source": [
    "# Initialize temperature\n",
    "ts = np.zeros((n,)) # Surface temperature\n",
    "ts[0] = 273.15\n",
    "\n",
    "ta = np.zeros((n,)) # Atmospheric temperature\n",
    "ta[0] = 273.15"
   ]
  },
  {
   "cell_type": "code",
   "execution_count": 6,
   "metadata": {},
   "outputs": [],
   "source": [
    "# Inflows (Solar to earth, IR down) - Surface\n",
    "\n",
    "# Absorbed solar energy\n",
    "solar = solar_const/4 * (1 - albedo) * seconds_per_year\n",
    "\n",
    "# Solar to earth\n",
    "solar_to_earth = solar * (1 - atmospheric_abs)\n",
    "\n",
    "# IR Down\n",
    "ir_down = sigma * e * ta[0] ** 4 * seconds_per_year\n",
    "\n",
    "# Outflows (IR) - Surface\n",
    "ir = sigma * ts[0] ** 4 * seconds_per_year"
   ]
  },
  {
   "cell_type": "code",
   "execution_count": 7,
   "metadata": {},
   "outputs": [],
   "source": [
    "# Inflows (solar to atmosphere, IR) - Atmosphere\n",
    "\n",
    "# Solar to atmosphere\n",
    "solar_to_atm = solar * atmospheric_abs\n",
    "\n",
    "# Outflows (IR down, IR to space) - Atmosphere\n",
    "\n",
    "# IR to space\n",
    "ir_to_space = ir * (1 - e) + ir_down"
   ]
  },
  {
   "cell_type": "code",
   "execution_count": 8,
   "metadata": {},
   "outputs": [],
   "source": [
    "# Flows of energy\n",
    "\n",
    "# IR norm\n",
    "ir_norm = np.zeros((n, ))\n",
    "ir_norm[0] = ir/seconds_per_year\n",
    "\n",
    "# IR down norm\n",
    "ir_down_norm = np.zeros((n, ))\n",
    "ir_down_norm[0] = ir_down/seconds_per_year\n",
    "\n",
    "# Solar to earth norm\n",
    "solar_to_earth_norm = np.zeros((n, ))\n",
    "solar_to_earth_norm[0] = solar_to_earth/seconds_per_year"
   ]
  },
  {
   "cell_type": "code",
   "execution_count": 9,
   "metadata": {},
   "outputs": [],
   "source": [
    "for k in range(1, n):\n",
    "     \n",
    "    # Inflows (Solar to earth, IR down) - Surface\n",
    "    solar_to_earth = (solar_const/4 * (1 - albedo) * seconds_per_year) * (1 - atmospheric_abs)\n",
    "    ir_down = sigma * e * ta[k-1] ** 4 * seconds_per_year\n",
    "    \n",
    "    # Outflows (IR) - Surface\n",
    "    ir = sigma * ts[k-1] ** 4 * seconds_per_year\n",
    "    \n",
    "    # Calculate the temperature - Surface\n",
    "    energy_ts = ts[k-1] * heat_capacity_water + (solar_to_earth + ir_down - ir) * dt\n",
    "    ts[k] = energy_ts/heat_capacity_water\n",
    "    \n",
    "    # Inflows (solar to atmosphere, IR) - Atmosphere\n",
    "    solar_to_atm = (solar_const/4 * (1 - albedo) * seconds_per_year) * atmospheric_abs\n",
    "    \n",
    "    # Outflows (IR down, IR to space) - Atmosphere\n",
    "    ir_to_space = ir * (1 - e) + ir_down\n",
    "    \n",
    "    # Calculate the temperature - Atmosphere\n",
    "    energy_ta = ta[k-1] * heat_capacity_atm + (ir + solar_to_atm - ir_down - ir_to_space) * dt\n",
    "    ta[k] = energy_ta/heat_capacity_atm\n",
    "    \n",
    "    # Calculate IR norm, IR down, Solar to earth norm\n",
    "    ir_norm[k] = ir/seconds_per_year\n",
    "    ir_down_norm[k] = ir_down/seconds_per_year\n",
    "    solar_to_earth_norm[k] = solar_to_earth/seconds_per_year\n",
    "    "
   ]
  },
  {
   "cell_type": "code",
   "execution_count": 10,
   "metadata": {},
   "outputs": [],
   "source": [
    "# Convert to °C\n",
    "ts = ts - 273.15\n",
    "ta = ta - 273.15"
   ]
  },
  {
   "cell_type": "code",
   "execution_count": 11,
   "metadata": {},
   "outputs": [
    {
     "data": {
      "image/png": "[encoded data removed]",
      "text/plain": [
       "<Figure size 576x432 with 2 Axes>"
      ]
     },
     "metadata": {},
     "output_type": "display_data"
    }
   ],
   "source": [
    "# Plot Ts and Ta\n",
    "fig, (ax1, ax2) = plt.subplots(2, 1, figsize = (8, 6))\n",
    "ax1.set_xlabel(\"Years\")\n",
    "ax1.set_ylabel(\"Temperature (°C)\")\n",
    "ax1.set_title(\"Surface and atmospheric temperatures in the one-layer climate model\")\n",
    "ax1.plot(t, ts, c=\"tab:red\")\n",
    "ax1.plot(t, ta, c=\"tab:blue\")\n",
    "ax1.legend((\"T surface\",\"T atmosphere\"))\n",
    "ax1.grid()\n",
    "\n",
    "# Plot the Flows\n",
    "ax2.set_xlabel(\"Years\")\n",
    "ax2.set_ylabel(\"Flow of energy ($W/m^{2}$)\")\n",
    "ax2.set_title(\"Flows of energy to and from the surface in the one-layer model\")\n",
    "ax2.set_ylim(0, ir_norm.max() + 10)\n",
    "ax2.plot(t, ir_norm, c=\"tab:purple\")\n",
    "ax2.plot(t, solar_to_earth_norm, c=\"tab:orange\")\n",
    "ax2.plot(t, ir_down_norm, c=\"tab:green\")\n",
    "ax2.grid()\n",
    "ax2.legend((\"IR\", \"Solar to earth\", \"IR down\"))\n",
    "\n",
    "plt.tight_layout()\n",
    "plt.show()"
   ]
  },
  {
   "cell_type": "code",
   "execution_count": 12,
   "metadata": {},
   "outputs": [
    {
     "name": "stdout",
     "output_type": "stream",
     "text": [
      "Final Temperature, T=16°C\n"
     ]
    }
   ],
   "source": [
    "print(f\"Final Temperature, T={round(ts[-1])}°C\")"
   ]
  }
 ],
 "metadata": {
  "interpreter": {
   "hash": "7b11ec4e63c99d8162a346e44061eab97ff71e663e3c205d951a4ad2f12c3cfa"
  },
  "kernelspec": {
   "display_name": "Python 3.7.10 64-bit (system)",
   "name": "python3"
  },
  "language_info": {
   "codemirror_mode": {
    "name": "ipython",
    "version": 3
   },
   "file_extension": ".py",
   "mimetype": "text/x-python",
   "name": "python",
   "nbconvert_exporter": "python",
   "pygments_lexer": "ipython3",
   "version": "3.7.10"
  },
  "orig_nbformat": 4
 },
 "nbformat": 4,
 "nbformat_minor": 2
}
