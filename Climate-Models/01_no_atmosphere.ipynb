{
 "cells": [
  {
   "cell_type": "markdown",
   "metadata": {},
   "source": [
    "<b> No-Atmosphere Climate Model </b><br>\n",
    "Reference: Walter A. Robinson, Modeling Dynamic Climate Systems"
   ]
  },
  {
   "cell_type": "code",
   "execution_count": 1,
   "metadata": {},
   "outputs": [],
   "source": [
    "import numpy as np\n",
    "import matplotlib.pyplot as plt\n",
    "\n",
    "plt.style.use('seaborn-dark')"
   ]
  },
  {
   "cell_type": "code",
   "execution_count": 2,
   "metadata": {},
   "outputs": [],
   "source": [
    "# Step size\n",
    "dt = 0.1\n",
    "\n",
    "# Min-Max time\n",
    "tmin = 0\n",
    "tmax = 10\n",
    "t = np.arange(tmin, tmax + dt, dt)\n",
    "\n",
    "n = len(t)\n",
    "\n",
    "# Seconds per year\n",
    "seconds_per_year = 365 * 24 * 60 * 60"
   ]
  },
  {
   "cell_type": "code",
   "execution_count": 3,
   "metadata": {},
   "outputs": [],
   "source": [
    "# Albedo\n",
    "albedo = 0.3\n",
    "\n",
    "# Initial temperature\n",
    "temp_k = 273.15 # K\n",
    "\n",
    "# Stefan-Boltzmann constant\n",
    "sigma = 5.6696e-8 # W/m^2*K^4\n",
    "\n",
    "# Solar constant\n",
    "solar_const = 1367 # W/m^2\n",
    "\n",
    "# Density of water\n",
    "water_density = 1000 # kg/m^3\n",
    "\n",
    "# Depth of the mixed layer\n",
    "depth_mixed_layer = 50 # m\n",
    "\n",
    "# Specific heat capacity of water\n",
    "spec_heat_water = 4218 # J/kg*K"
   ]
  },
  {
   "cell_type": "code",
   "execution_count": 4,
   "metadata": {},
   "outputs": [],
   "source": [
    "# Heat capacity of the mixed layer\n",
    "heat_capacity = water_density * depth_mixed_layer * spec_heat_water"
   ]
  },
  {
   "cell_type": "code",
   "execution_count": 5,
   "metadata": {},
   "outputs": [],
   "source": [
    "# Inflow: Absorbed solar energy\n",
    "solar = solar_const/4 * (1 - albedo) * seconds_per_year"
   ]
  },
  {
   "cell_type": "code",
   "execution_count": 6,
   "metadata": {},
   "outputs": [],
   "source": [
    "# Array to store the result\n",
    "ts = np.zeros((n,))\n",
    "\n",
    "# Set initial temperature\n",
    "ts[0] = temp_k\n",
    "\n",
    "# Euler method\n",
    "for k in range(1, n):\n",
    "\n",
    "    # Outflow: IR\n",
    "    ir = sigma * ts[k-1]**4 * seconds_per_year\n",
    "\n",
    "    # Temperature = Energy/Heat capacity\n",
    "    energy = ts[k-1] * heat_capacity + (solar - ir) * dt\n",
    "    ts[k] = energy/heat_capacity"
   ]
  },
  {
   "cell_type": "code",
   "execution_count": 7,
   "metadata": {},
   "outputs": [],
   "source": [
    "# Convert to °C\n",
    "ts = ts - 273.15"
   ]
  },
  {
   "cell_type": "code",
   "execution_count": 8,
   "metadata": {},
   "outputs": [
    {
     "data": {
      "image/png": "[encoded data removed]",
      "text/plain": [
       "<Figure size 432x288 with 1 Axes>"
      ]
     },
     "metadata": {},
     "output_type": "display_data"
    }
   ],
   "source": [
    "# Plot the result\n",
    "fig, ax = plt.subplots()\n",
    "ax.set_xlabel(\"Years\")\n",
    "ax.set_ylabel(\"Temperature (°C)\")\n",
    "ax.set_title(\"Temperature versus time in the no-atmosphere model\")\n",
    "ax.grid()\n",
    "ax.plot(t, ts, c='tab:red')\n",
    "plt.tight_layout()\n",
    "plt.show()"
   ]
  }
 ],
 "metadata": {
  "interpreter": {
   "hash": "7b11ec4e63c99d8162a346e44061eab97ff71e663e3c205d951a4ad2f12c3cfa"
  },
  "kernelspec": {
   "display_name": "Python 3.7.10 64-bit (system)",
   "name": "python3"
  },
  "language_info": {
   "codemirror_mode": {
    "name": "ipython",
    "version": 3
   },
   "file_extension": ".py",
   "mimetype": "text/x-python",
   "name": "python",
   "nbconvert_exporter": "python",
   "pygments_lexer": "ipython3",
   "version": "3.7.10"
  },
  "orig_nbformat": 4
 },
 "nbformat": 4,
 "nbformat_minor": 2
}
