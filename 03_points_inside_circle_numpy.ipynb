{
  "nbformat": 4,
  "nbformat_minor": 0,
  "metadata": {
    "colab": {
      "name": "03_points_inside_circle_numpy.ipynb",
      "provenance": [],
      "collapsed_sections": [],
      "authorship_tag": "ABX9TyNdXDUhzhLiimPuCJHrTFQC",
      "include_colab_link": true
    },
    "kernelspec": {
      "name": "python3",
      "display_name": "Python 3"
    },
    "language_info": {
      "name": "python"
    }
  },
  "cells": [
    {
      "cell_type": "markdown",
      "metadata": {
        "id": "view-in-github",
        "colab_type": "text"
      },
      "source": [
        "<a href=\"https://colab.research.google.com/github/ivandorte/python_gis/blob/main/03_points_inside_circle_numpy.ipynb\" target=\"_parent\"><img src=\"https://colab.research.google.com/assets/colab-badge.svg\" alt=\"Open In Colab\"/></a>"
      ]
    },
    {
      "cell_type": "code",
      "metadata": {
        "id": "hZQ6oZ_dhzgj"
      },
      "source": [
        "import numpy as np\n",
        "from random import randint\n",
        "import matplotlib.pyplot as plt"
      ],
      "execution_count": 5,
      "outputs": []
    },
    {
      "cell_type": "code",
      "metadata": {
        "id": "HeffkSbTh88w"
      },
      "source": [
        "# Vectorized function to check if an array of points are inside a circle\n",
        "def inside(points, circle_ctx, circle_radius):\n",
        "    return (points[:,0] - circle_ctx[0]) ** 2 + (points[:,1] - circle_ctx[1]) ** 2 <= (circle_radius ** 2)"
      ],
      "execution_count": 19,
      "outputs": []
    },
    {
      "cell_type": "code",
      "metadata": {
        "colab": {
          "base_uri": "https://localhost:8080/",
          "height": 265
        },
        "id": "1N-VCCbgiFe9",
        "outputId": "29df27b9-9958-48d9-9f84-2dc4f318353c"
      },
      "source": [
        "# Generate an array (n, 2) of random points \n",
        "points = np.array([(randint(-6, 6), randint(-6, 6)) for i in range(10)])\n",
        "\n",
        "# A circle with 1,1 centre and a certain radius\n",
        "circle_ctx = (1, 1)\n",
        "circle_radius = 4\n",
        "\n",
        "result = inside(points, circle_ctx, circle_radius)\n",
        "points_inside = points[result]\n",
        "\n",
        "# Creates a figure and one subplot\n",
        "fig, ax = plt.subplots()\n",
        "\n",
        "# Plot the circle\n",
        "ax.add_patch(plt.Circle(circle_ctx, circle_radius, color='b', alpha=0.1))\n",
        "\n",
        "# Plot the points\n",
        "ax.scatter(points_inside[:,0], points_inside[:,1], c='green')\n",
        "\n",
        "# Show the plot\n",
        "ax.set_aspect('equal', adjustable='datalim')\n",
        "plt.show()"
      ],
      "execution_count": 23,
      "outputs": [
        {
          "output_type": "display_data",
          "data": {
            "image/png": "[encoded data removed]",
            "text/plain": [
              "<Figure size 432x288 with 1 Axes>"
            ]
          },
          "metadata": {
            "needs_background": "light"
          }
        }
      ]
    }
  ]
}