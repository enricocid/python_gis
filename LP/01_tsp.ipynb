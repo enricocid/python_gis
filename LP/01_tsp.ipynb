{
 "cells": [
  {
   "cell_type": "code",
   "execution_count": 1,
   "source": [
    "import numpy as np\r\n",
    "from scipy.spatial import distance_matrix\r\n",
    "import cvxpy as cvx\r\n",
    "import matplotlib.pyplot as plt"
   ],
   "outputs": [],
   "metadata": {}
  },
  {
   "cell_type": "code",
   "execution_count": 2,
   "source": [
    "# Generate some random Points\r\n",
    "num_points = 20\r\n",
    "points = np.random.uniform(-10, 10, (num_points, 2))"
   ],
   "outputs": [],
   "metadata": {}
  },
  {
   "cell_type": "code",
   "execution_count": 3,
   "source": [
    "# Calculate the distance matrix\r\n",
    "dist_mat = distance_matrix(points, points)\r\n",
    "\r\n",
    "# Fill diagonal with 9999\r\n",
    "np.fill_diagonal(dist_mat, 9999)"
   ],
   "outputs": [],
   "metadata": {}
  },
  {
   "cell_type": "code",
   "execution_count": 4,
   "source": [
    "# Bool variable to check if a node is connected to another in the tour\r\n",
    "c = cvx.Variable((num_points, num_points), boolean = True)"
   ],
   "outputs": [],
   "metadata": {}
  },
  {
   "cell_type": "code",
   "execution_count": 5,
   "source": [
    "# A variable useful for subtour elimination\r\n",
    "u = cvx.Variable(num_points)"
   ],
   "outputs": [],
   "metadata": {}
  },
  {
   "cell_type": "code",
   "execution_count": null,
   "source": [
    "# Objective function - Minimize distance\r\n",
    "obj = cvx.Minimize(sum([dist_mat[i,:] * c[:,i] for i in range(num_points)]))"
   ],
   "outputs": [],
   "metadata": {}
  },
  {
   "cell_type": "code",
   "execution_count": 7,
   "source": [
    "constraints = []"
   ],
   "outputs": [],
   "metadata": {}
  },
  {
   "cell_type": "code",
   "execution_count": 8,
   "source": [
    "# Only 1 incoming connection for each node\r\n",
    "for i in range(num_points):\r\n",
    "    # One inbound connection\r\n",
    "    constraints.append(cvx.sum(c[i,:]) == 1) \r\n",
    "\r\n",
    "# Only 1 outbound connection for each node\r\n",
    "for j in range(num_points):\r\n",
    "    constraints.append(cvx.sum(c[:,j]) == 1) "
   ],
   "outputs": [],
   "metadata": {}
  },
  {
   "cell_type": "code",
   "execution_count": 9,
   "source": [
    "# Subtour elimination\r\n",
    "for i in range(1, num_points):\r\n",
    "    for j in range(1, num_points):\r\n",
    "        if i != j:\r\n",
    "            constraints.append(u[i] - u[j] + num_points * c[i,j] <= num_points - 1)"
   ],
   "outputs": [],
   "metadata": {}
  },
  {
   "cell_type": "code",
   "execution_count": 10,
   "source": [
    "prob = cvx.Problem(obj, constraints)"
   ],
   "outputs": [],
   "metadata": {}
  },
  {
   "cell_type": "code",
   "execution_count": 11,
   "source": [
    "opt = prob.solve(solver=cvx.CPLEX)"
   ],
   "outputs": [],
   "metadata": {}
  },
  {
   "cell_type": "code",
   "execution_count": 12,
   "source": [
    "# Get the path matrix\r\n",
    "path_mat = np.around(c.value)"
   ],
   "outputs": [],
   "metadata": {}
  },
  {
   "cell_type": "code",
   "execution_count": 13,
   "source": [
    "# Get the optimal tour\r\n",
    "idx = 0\r\n",
    "optimal_tour = []\r\n",
    "optimal_tour.append(points[0].tolist())\r\n",
    "for i in range(path_mat.shape[0]):\r\n",
    "    idx = np.where(path_mat[idx, :]>= 0.99)[0][0]\r\n",
    "    optimal_tour.append(points[idx].tolist())\r\n",
    "optimal_tour = np.array(optimal_tour)"
   ],
   "outputs": [],
   "metadata": {}
  },
  {
   "cell_type": "code",
   "execution_count": 14,
   "source": [
    "# Creates a figure and one subplot\r\n",
    "fig, ax = plt.subplots()\r\n",
    "\r\n",
    "# Plot the points\r\n",
    "ax.scatter(optimal_tour[:,0], optimal_tour[:,1], c='red', marker = 'x')\r\n",
    "\r\n",
    "# Plot the optimal tour\r\n",
    "ax.plot(optimal_tour[:,0], optimal_tour[:,1])\r\n",
    "\r\n",
    "# Show the plot\r\n",
    "ax.set_aspect('equal', adjustable='datalim')\r\n",
    "plt.show()"
   ],
   "outputs": [
    {
     "output_type": "display_data",
     "data": {
      "image/png": "[encoded data removed]",
      "text/plain": [
       "<Figure size 432x288 with 1 Axes>"
      ]
     },
     "metadata": {
      "needs_background": "light"
     }
    }
   ],
   "metadata": {}
  }
 ],
 "metadata": {
  "orig_nbformat": 4,
  "language_info": {
   "name": "python",
   "version": "3.7.10",
   "mimetype": "text/x-python",
   "codemirror_mode": {
    "name": "ipython",
    "version": 3
   },
   "pygments_lexer": "ipython3",
   "nbconvert_exporter": "python",
   "file_extension": ".py"
  },
  "kernelspec": {
   "name": "python3",
   "display_name": "Python 3.7.10 64-bit ('ivan-py3': conda)"
  },
  "interpreter": {
   "hash": "859c113f27402a161a1c1d4fd0f59e88747676be7b91a84aeee4fb4091757a9a"
  }
 },
 "nbformat": 4,
 "nbformat_minor": 2
}