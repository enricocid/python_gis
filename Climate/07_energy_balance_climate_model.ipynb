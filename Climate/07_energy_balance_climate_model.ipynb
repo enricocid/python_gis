{
 "cells": [
  {
   "cell_type": "markdown",
   "metadata": {},
   "source": [
    "<b> EBCM (Energy-Balance Climate Model) </b><br>\n",
    "Reference: Walter A. Robinson, Modeling Dynamic Climate Systems"
   ]
  },
  {
   "cell_type": "code",
   "execution_count": 1,
   "metadata": {},
   "outputs": [],
   "source": [
    "import numpy as np\n",
    "import matplotlib.pyplot as plt\n",
    "\n",
    "plt.style.use('seaborn-dark')"
   ]
  },
  {
   "cell_type": "code",
   "execution_count": 2,
   "metadata": {},
   "outputs": [],
   "source": [
    "def EBCM(solar_const):\n",
    "    # Mixing coefficient for Saturation humidity\n",
    "    mixing_coef_for_q = mixing_velocity * p0/g * np.pi * earth_radius * lv * seconds_per_year/earth_area\n",
    "    \n",
    "    # Mixing coefficient for temperature\n",
    "    mixing_coef_for_t = mixing_velocity * p0/g * np.pi * earth_radius * spec_heat_atm * seconds_per_year/earth_area\n",
    "\n",
    "    # Incoming solar radiation of temperate and tropical latitudes\n",
    "    s0_temperate = solar_const * temperate_coeff * seconds_per_year * (1 - albedo_temperate)\n",
    "    s0_tropics = solar_const * tropics_coeff * seconds_per_year * (1 - albedo_tropics)\n",
    "\n",
    "    # Initialize temperatures of temperate and tropical latitudes\n",
    "    t_temperate = np.zeros((n,))\n",
    "    t_tropics = np.zeros((n,))\n",
    "    t_temperate[0] = 288\n",
    "    t_tropics[0] = 288\n",
    "\n",
    "    # Saturation humidity of temperate and tropical latitudes\n",
    "    q_temperate = np.zeros((n, ))\n",
    "    q_tropics = np.zeros((n, ))\n",
    "    q_temperate[0] = rh * 0.0038 * np.exp(5423 * (1/273.15 - 1/t_temperate[0]))\n",
    "    q_tropics[0] = rh * 0.0038 * np.exp(5423 * (1/273.15 - 1/t_tropics[0]))\n",
    "\n",
    "    # Sensible heat\n",
    "    sensible_heat = np.zeros((n, ))\n",
    "    sensible_heat[0] = mixing_coef_for_t *  (t_tropics[0] - t_temperate[0])\n",
    "\n",
    "    # Latent heat\n",
    "    latent_heat = np.zeros((n, ))\n",
    "    latent_heat[0] = mixing_coef_for_q * (q_tropics[0] - q_temperate[0])\n",
    "\n",
    "    # IR of temperate and tropical latitudes\n",
    "    ir_temperate = np.zeros((n, ))\n",
    "    ir_tropics = np.zeros((n, ))\n",
    "    ir_temperate[0] = (a * t_temperate[0] + b) * seconds_per_year\n",
    "    ir_tropics[0] = (a * t_tropics[0]  + b) * seconds_per_year\n",
    "\n",
    "    # Tropical-extratropical temperature contrast\n",
    "    delta_t = np.zeros((n, ))\n",
    "    \n",
    "    # Mean global temperature\n",
    "    t_globe = np.zeros((n, ))\n",
    "    \n",
    "    for k in range(1, n):\n",
    "        # Temperatures of temperate and tropics latitudes\n",
    "        t_temperate[k] = t_temperate[k-1] + ((sensible_heat[k-1] + latent_heat[k-1] + s0_temperate - ir_temperate[k-1]) * dt)/heat_capacity\n",
    "        t_tropics[k] = t_tropics[k-1] + ((s0_tropics - sensible_heat[k-1] - latent_heat[k-1] - ir_tropics[k-1]) * dt)/heat_capacity\n",
    "        \n",
    "        # Saturation humidity of temperate and tropical latitudes\n",
    "        q_temperate[k] = rh * 0.0038 * np.exp(5423 * (1/273 - 1/t_temperate[k]))\n",
    "        q_tropics[k] = rh * 0.0038 * np.exp(5423 * (1/273 - 1/t_tropics[k]))\n",
    "        \n",
    "        # Sensible heat\n",
    "        sensible_heat[k] = mixing_coef_for_t *  (t_tropics[k] - t_temperate[k])\n",
    "        \n",
    "        # Latent heat\n",
    "        latent_heat[k] = mixing_coef_for_q * (q_tropics[k] - q_temperate[k])\n",
    "        \n",
    "        # IR of temperate and tropical latitudes\n",
    "        ir_temperate[k] = (a * t_temperate[k] + b) * seconds_per_year\n",
    "        ir_tropics[k] = (a * t_tropics[k] + b) * seconds_per_year\n",
    "        \n",
    "        # Calculate Mean global temperature and tropical-extratropical temperature contrast\n",
    "        if t[k] < 19.9:\n",
    "            delta_t[k] = 10\n",
    "            t_globe[k] = 0\n",
    "        elif t[k] > 19.9:\n",
    "            delta_t[k] = t_tropics[k] - t_temperate[k]\n",
    "            t_globe[k] = ((t_tropics[k] + t_temperate[k])/2)\n",
    "    return t_globe, delta_t"
   ]
  },
  {
   "cell_type": "code",
   "execution_count": 3,
   "metadata": {},
   "outputs": [],
   "source": [
    "# Step size          \n",
    "dt = 0.01\n",
    "\n",
    "# Set up simulation time\n",
    "tmin = 0\n",
    "tmax = 20\n",
    "t = np.arange(tmin, tmax + dt, dt)\n",
    "n = len(t)\n",
    "\n",
    "# Seconds per year\n",
    "seconds_per_year = 365 * 24 * 60 * 60"
   ]
  },
  {
   "cell_type": "code",
   "execution_count": 4,
   "metadata": {},
   "outputs": [],
   "source": [
    "# Constants for parameterized infrared cooling rate equation IR = a x T + b\n",
    "a = 3.18 # W/m^2/K\n",
    "b = -669.8 # W/m^2\n",
    "\n",
    "# Albedo of temperate and tropical latitudes\n",
    "albedo_temperate = 0.4\n",
    "albedo_tropics = 0.2\n",
    "\n",
    "# Specific heat capacity of atmosphere\n",
    "spec_heat_atm = 1004 # J/kg*K\n",
    "\n",
    "# Density of water\n",
    "water_density = 1000 # kg/m^3\n",
    "\n",
    "# Depth of the mixed layer\n",
    "depth_mixed_layer = 50 # m\n",
    "\n",
    "# Heat capaciry mixed layer\n",
    "heat_capacity = water_density * depth_mixed_layer * spec_heat_atm # J/kg*K\n",
    "\n",
    "# Gravity accelleration\n",
    "g = 9.81 # m/s^2\n",
    "\n",
    "# Latent heat of vaporization\n",
    "lv = 2500000 # J/kg\n",
    "\n",
    "# Atmospheric pressure\n",
    "p0 = 1e5; # Pa\n",
    "\n",
    "# Relative humidity\n",
    "rh = 0.5\n",
    "\n",
    "# Earth radius\n",
    "earth_radius = 6.37e6 # m\n",
    "\n",
    "# Earth area\n",
    "earth_area = np.pi * (earth_radius) ** 2 # m^2\n",
    "\n",
    "# Specific heat capacity of water\n",
    "spec_heat_water = 4218 # J/kg*K\n",
    "\n",
    "# Solar constant \n",
    "default_solar_const = 1367 # W/m^2\n",
    "min_solar = 640 # W/m^2\n",
    "max_solar = 2120 # W/m^2\n",
    "dt_solar = 150\n",
    "\n",
    "temperate_coeff = 0.196\n",
    "tropics_coeff = 0.304\n",
    "\n",
    "# Mixing velocity\n",
    "mixing_velocity = 0.8; # m/s"
   ]
  },
  {
   "cell_type": "code",
   "execution_count": 5,
   "metadata": {},
   "outputs": [
    {
     "data": {
      "image/png": "[encoded data removed]",
      "text/plain": [
       "<Figure size 576x432 with 1 Axes>"
      ]
     },
     "metadata": {},
     "output_type": "display_data"
    }
   ],
   "source": [
    "\"\"\" Sensivity of the energy-balance climate model to changes in the solar constant \"\"\"\n",
    "\n",
    "fig, ax = plt.subplots(figsize=(8, 6))\n",
    "values = []\n",
    "for s0 in range(min_solar, max_solar + dt_solar, dt_solar):\n",
    "    t_globe, _ = EBCM(s0)\n",
    "    values.append((s0, t_globe.max() - 273.15))\n",
    "values = np.array(values)\n",
    "ax.stem(values[:, 0], values[:, 1])\n",
    "ax.set_title(\"Sensitivity of the EBCM to changes in the solar constant (T Globe)\")\n",
    "ax.set_xlabel(\"S0 ($W/m^{2}$)\")\n",
    "ax.set_ylabel(\"ΔT (°C)\")\n",
    "ax.grid()\n",
    "plt.tight_layout()\n",
    "plt.show()"
   ]
  },
  {
   "cell_type": "code",
   "execution_count": 6,
   "metadata": {},
   "outputs": [
    {
     "data": {
      "image/png": "[encoded data removed]",
      "text/plain": [
       "<Figure size 576x432 with 1 Axes>"
      ]
     },
     "metadata": {},
     "output_type": "display_data"
    }
   ],
   "source": [
    "\"\"\" Sensitivity of the tropical-extratropical temperature contrast \n",
    "in the energy-balance climate model to changes in the solar constant \"\"\"\n",
    "\n",
    "fig, ax = plt.subplots(figsize=(8, 6))\n",
    "values = []\n",
    "for s0 in range(min_solar, max_solar + dt_solar, dt_solar):\n",
    "    _, delta_t = EBCM(s0)\n",
    "    values.append((s0, delta_t.max()))\n",
    "values = np.array(values)\n",
    "ax.stem(values[:, 0], values[:, 1], bottom = 10)\n",
    "ax.set_title(\"Sensitivity of the EBCM to changes in the solar constant (Delta T)\")\n",
    "ax.set_xlabel(\"S0 ($W/m^{2}$)\")\n",
    "ax.set_ylabel(\"ΔT (°C)\")\n",
    "ax.grid()\n",
    "plt.tight_layout()\n",
    "plt.show()"
   ]
  }
 ],
 "metadata": {
  "interpreter": {
   "hash": "7b11ec4e63c99d8162a346e44061eab97ff71e663e3c205d951a4ad2f12c3cfa"
  },
  "kernelspec": {
   "display_name": "Python 3.7.10 64-bit (system)",
   "name": "python3"
  },
  "language_info": {
   "codemirror_mode": {
    "name": "ipython",
    "version": 3
   },
   "file_extension": ".py",
   "mimetype": "text/x-python",
   "name": "python",
   "nbconvert_exporter": "python",
   "pygments_lexer": "ipython3",
   "version": "3.7.10"
  },
  "orig_nbformat": 4
 },
 "nbformat": 4,
 "nbformat_minor": 2
}
