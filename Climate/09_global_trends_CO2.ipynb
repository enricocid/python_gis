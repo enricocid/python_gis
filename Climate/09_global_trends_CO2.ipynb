{
 "cells": [
  {
   "cell_type": "code",
   "execution_count": 1,
   "metadata": {
    "execution": {
     "iopub.execute_input": "2022-04-03T01:18:40.250538Z",
     "iopub.status.busy": "2022-04-03T01:18:40.249849Z",
     "iopub.status.idle": "2022-04-03T01:18:41.481413Z",
     "shell.execute_reply": "2022-04-03T01:18:41.480655Z"
    }
   },
   "outputs": [],
   "source": [
    "import calendar\n",
    "from datetime import datetime\n",
    "import pandas as pd\n",
    "import matplotlib\n",
    "import matplotlib.pyplot as plt\n",
    "from matplotlib.offsetbox import AnchoredText\n",
    "matplotlib.use('agg')\n",
    "plt.style.use('seaborn-darkgrid')"
   ]
  },
  {
   "cell_type": "code",
   "execution_count": 2,
   "metadata": {
    "execution": {
     "iopub.execute_input": "2022-04-03T01:18:41.485174Z",
     "iopub.status.busy": "2022-04-03T01:18:41.484879Z",
     "iopub.status.idle": "2022-04-03T01:18:41.489614Z",
     "shell.execute_reply": "2022-04-03T01:18:41.489040Z"
    }
   },
   "outputs": [],
   "source": [
    "# Source: Global Monitoring Laboratory, NOAA\n",
    "\n",
    "# Global Monthly Mean CO2\n",
    "co2_mm_gl = \"https://gml.noaa.gov/webdata/ccgg/trends/co2/co2_mm_gl.txt\"\n",
    "\n",
    "# Daily Global CO2\n",
    "co2_trend_gl = \"https://gml.noaa.gov/webdata/ccgg/trends/co2/co2_trend_gl.txt\""
   ]
  },
  {
   "cell_type": "code",
   "execution_count": 3,
   "metadata": {
    "execution": {
     "iopub.execute_input": "2022-04-03T01:18:41.492997Z",
     "iopub.status.busy": "2022-04-03T01:18:41.492674Z",
     "iopub.status.idle": "2022-04-03T01:18:41.884115Z",
     "shell.execute_reply": "2022-04-03T01:18:41.882962Z"
    }
   },
   "outputs": [],
   "source": [
    "# Read the Global Monthly Mean CO2 file\n",
    "co2_mm_gl_df = pd.read_csv(co2_mm_gl, \n",
    "                         sep=r\"\\s+\", \n",
    "                         comment='#', \n",
    "                         names=[\"year\",\n",
    "                                \"month\", \n",
    "                                \"decimal\", \n",
    "                                \"average\", \n",
    "                                \"trend\"])"
   ]
  },
  {
   "cell_type": "code",
   "execution_count": 4,
   "metadata": {
    "execution": {
     "iopub.execute_input": "2022-04-03T01:18:41.887838Z",
     "iopub.status.busy": "2022-04-03T01:18:41.887521Z",
     "iopub.status.idle": "2022-04-03T01:18:41.902001Z",
     "shell.execute_reply": "2022-04-03T01:18:41.901453Z"
    }
   },
   "outputs": [],
   "source": [
    "co2_mm_gl_df[\"date_text\"] = co2_mm_gl_df.apply(lambda r: \"{} {}\".format(calendar.month_name[int(r[\"month\"])], \n",
    "                       int(r[\"year\"])), axis=1)"
   ]
  },
  {
   "cell_type": "code",
   "execution_count": 5,
   "metadata": {
    "execution": {
     "iopub.execute_input": "2022-04-03T01:18:41.904823Z",
     "iopub.status.busy": "2022-04-03T01:18:41.904502Z",
     "iopub.status.idle": "2022-04-03T01:18:41.910373Z",
     "shell.execute_reply": "2022-04-03T01:18:41.909838Z"
    }
   },
   "outputs": [],
   "source": [
    "# Get the most up-to-date Global Monthly Mean of CO2 reading\n",
    "last_month = co2_mm_gl_df.iloc[-1]\n",
    "\n",
    "# ...and compare it with that of the previous year\n",
    "prev_year = co2_mm_gl_df[co2_mm_gl_df[\"decimal\"] == last_month[\"decimal\"] - 1]"
   ]
  },
  {
   "cell_type": "code",
   "execution_count": 6,
   "metadata": {
    "execution": {
     "iopub.execute_input": "2022-04-03T01:18:41.913109Z",
     "iopub.status.busy": "2022-04-03T01:18:41.912671Z",
     "iopub.status.idle": "2022-04-03T01:18:41.918583Z",
     "shell.execute_reply": "2022-04-03T01:18:41.917574Z"
    }
   },
   "outputs": [],
   "source": [
    "boxtext = \"\"\n",
    "boxtext += \"{}: {} ppm\\n\".format(last_month[\"date_text\"], \n",
    "                              last_month[\"average\"])\n",
    "boxtext += \"{}: {} ppm\".format(prev_year[\"date_text\"].item(), \n",
    "                            prev_year[\"average\"].item())"
   ]
  },
  {
   "cell_type": "code",
   "execution_count": 7,
   "metadata": {
    "execution": {
     "iopub.execute_input": "2022-04-03T01:18:41.921345Z",
     "iopub.status.busy": "2022-04-03T01:18:41.920913Z",
     "iopub.status.idle": "2022-04-03T01:18:42.185517Z",
     "shell.execute_reply": "2022-04-03T01:18:42.184939Z"
    }
   },
   "outputs": [],
   "source": [
    "fig, ax = plt.subplots(figsize=(8, 6))\n",
    "ax.plot(co2_mm_gl_df[\"decimal\"], co2_mm_gl_df[\"average\"], c=\"tab:red\")\n",
    "ax.plot(co2_mm_gl_df[\"decimal\"], co2_mm_gl_df[\"trend\"], c=\"k\")\n",
    "min_year = min(co2_mm_gl_df[\"year\"])\n",
    "max_year = max(co2_mm_gl_df[\"year\"])\n",
    "ax.set_title(f\"Global Monthly Mean $CO_{2}$ ({min_year}-{max_year})\")\n",
    "ax.set_xlabel(\"Years\")\n",
    "ax.set_ylabel(\"ppm\")\n",
    "ax.text(0.95, 0.05, boxtext,\n",
    "        horizontalalignment='right', \n",
    "        color='white',\n",
    "        fontsize=14,\n",
    "        fontweight='bold',\n",
    "        verticalalignment='bottom',\n",
    "        bbox=dict(facecolor=\"green\", \n",
    "                  edgecolor=\"darkgreen\", \n",
    "                  boxstyle='round'),\n",
    "        transform=ax.transAxes)\n",
    "\n",
    "# Add last update date\n",
    "last_update = datetime.today().strftime(\"%d-%m-%Y %H:%M\")\n",
    "last_update_at = AnchoredText(f\"Last update: {last_update}\",\n",
    "                        borderpad=0., \n",
    "                        frameon=False, \n",
    "                        loc=3)\n",
    "ax.add_artist(last_update_at)\n",
    "ax.legend([\"Global Monthly Mean\", \"Global Trend\"])\n",
    "ax.grid(color=\"white\")\n",
    "plt.tight_layout()\n",
    "plt.show()"
   ]
  },
  {
   "cell_type": "code",
   "execution_count": 8,
   "metadata": {
    "execution": {
     "iopub.execute_input": "2022-04-03T01:18:42.188761Z",
     "iopub.status.busy": "2022-04-03T01:18:42.188456Z",
     "iopub.status.idle": "2022-04-03T01:18:42.743008Z",
     "shell.execute_reply": "2022-04-03T01:18:42.742296Z"
    }
   },
   "outputs": [],
   "source": [
    "# Read the Global daily CO2 file\n",
    "co2_trend_gl_df = pd.read_csv(co2_trend_gl, \n",
    "                        sep=r\"\\s+\", \n",
    "                        comment='#', \n",
    "                        names=[\"year\", \n",
    "                               \"month\", \n",
    "                               \"day\", \n",
    "                               \"cycle\", \n",
    "                               \"trend\"])"
   ]
  },
  {
   "cell_type": "code",
   "execution_count": 9,
   "metadata": {
    "execution": {
     "iopub.execute_input": "2022-04-03T01:18:42.747156Z",
     "iopub.status.busy": "2022-04-03T01:18:42.746755Z",
     "iopub.status.idle": "2022-04-03T01:18:42.826064Z",
     "shell.execute_reply": "2022-04-03T01:18:42.825306Z"
    }
   },
   "outputs": [],
   "source": [
    "# Create a Datetime column from year, month, day\n",
    "co2_trend_gl_df[\"date\"] = pd.to_datetime(co2_trend_gl_df[['year', \n",
    "                                              'month', \n",
    "                                              'day']])\n",
    "\n",
    "co2_trend_gl_df[\"date_str\"] = co2_trend_gl_df.apply(lambda r: \"{} {}\".format(calendar.month_name[int(r[\"month\"])], \n",
    "                       int(r[\"day\"])), axis=1)"
   ]
  },
  {
   "cell_type": "code",
   "execution_count": 10,
   "metadata": {
    "execution": {
     "iopub.execute_input": "2022-04-03T01:18:42.830064Z",
     "iopub.status.busy": "2022-04-03T01:18:42.829729Z",
     "iopub.status.idle": "2022-04-03T01:18:42.834381Z",
     "shell.execute_reply": "2022-04-03T01:18:42.833818Z"
    }
   },
   "outputs": [],
   "source": [
    "# Get the last 5 days\n",
    "last_5days_co2 = co2_trend_gl_df.tail(5)"
   ]
  },
  {
   "cell_type": "code",
   "execution_count": 11,
   "metadata": {
    "execution": {
     "iopub.execute_input": "2022-04-03T01:18:42.837007Z",
     "iopub.status.busy": "2022-04-03T01:18:42.836698Z",
     "iopub.status.idle": "2022-04-03T01:18:43.222429Z",
     "shell.execute_reply": "2022-04-03T01:18:43.221805Z"
    }
   },
   "outputs": [],
   "source": [
    "fig, ax = plt.subplots(figsize=(8, 6))\n",
    "ax.plot(co2_trend_gl_df[\"date\"], co2_trend_gl_df[\"cycle\"], c=\"tab:red\")\n",
    "ax.plot(co2_trend_gl_df[\"date\"], co2_trend_gl_df[\"trend\"], c=\"k\")\n",
    "min_year = min(co2_trend_gl_df[\"year\"])\n",
    "max_year = max(co2_trend_gl_df[\"year\"])\n",
    "ax.set_title(f\"Daily Global $CO_{2}$ ({min_year}-{max_year})\")\n",
    "ax.set_xlabel(\"Years\")\n",
    "ax.set_ylabel(\"ppm\")\n",
    "\n",
    "boxtext = \"\"\n",
    "for idx, row in last_5days_co2[::-1].iterrows():\n",
    "    if idx == last_5days_co2.index[0]:\n",
    "        boxtext += \"{}: {} ppm\".format(row[\"date_str\"], row[\"trend\"])\n",
    "    else:\n",
    "        boxtext += \"{}: {} ppm\\n\".format(row[\"date_str\"], row[\"trend\"])\n",
    "\n",
    "ax.text(0.95, 0.05, boxtext,\n",
    "        horizontalalignment='right', \n",
    "        color='white',\n",
    "        fontsize=14,\n",
    "        fontweight='bold',\n",
    "        verticalalignment='bottom',\n",
    "        bbox=dict(facecolor=\"green\", \n",
    "                  edgecolor=\"darkgreen\", \n",
    "                  boxstyle='round'),\n",
    "        transform=ax.transAxes)\n",
    "# Add last update date\n",
    "last_update = datetime.today().strftime(\"%d-%m-%Y %H:%M\")\n",
    "last_update_at = AnchoredText(f\"Last update: {last_update}\",\n",
    "                        borderpad=0., \n",
    "                        frameon=False, \n",
    "                        loc=3)\n",
    "ax.add_artist(last_update_at)\n",
    "ax.legend([\"Global Seasonal Cycle\", \"Global Trend\"])\n",
    "ax.grid(color=\"white\")\n",
    "plt.tight_layout()\n",
    "plt.savefig(\"09_DailyGlobalCO2.jpg\", dpi=300, bbox_inches='tight')\n",
    "plt.show()"
   ]
  }
 ],
 "metadata": {
  "interpreter": {
   "hash": "7b11ec4e63c99d8162a346e44061eab97ff71e663e3c205d951a4ad2f12c3cfa"
  },
  "kernelspec": {
   "display_name": "Python 3.7.10 64-bit (system)",
   "name": "python3"
  },
  "language_info": {
   "codemirror_mode": {
    "name": "ipython",
    "version": 3
   },
   "file_extension": ".py",
   "mimetype": "text/x-python",
   "name": "python",
   "nbconvert_exporter": "python",
   "pygments_lexer": "ipython3",
   "version": "3.7.5"
  }
 },
 "nbformat": 4,
 "nbformat_minor": 2
}
