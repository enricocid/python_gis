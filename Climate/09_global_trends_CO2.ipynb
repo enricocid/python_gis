{
 "cells": [
  {
   "cell_type": "code",
   "execution_count": 1,
   "metadata": {
    "execution": {
     "iopub.execute_input": "2022-01-17T01:00:41.138487Z",
     "iopub.status.busy": "2022-01-17T01:00:41.137971Z",
     "iopub.status.idle": "2022-01-17T01:00:42.236387Z",
     "shell.execute_reply": "2022-01-17T01:00:42.235811Z"
    }
   },
   "outputs": [],
   "source": [
    "import calendar\n",
    "from datetime import datetime\n",
    "import pandas as pd\n",
    "import matplotlib\n",
    "import matplotlib.pyplot as plt\n",
    "from matplotlib.offsetbox import AnchoredText\n",
    "matplotlib.use('agg')\n",
    "plt.style.use('seaborn-darkgrid')"
   ]
  },
  {
   "cell_type": "code",
   "execution_count": 2,
   "metadata": {
    "execution": {
     "iopub.execute_input": "2022-01-17T01:00:42.240376Z",
     "iopub.status.busy": "2022-01-17T01:00:42.239865Z",
     "iopub.status.idle": "2022-01-17T01:00:42.242744Z",
     "shell.execute_reply": "2022-01-17T01:00:42.243072Z"
    }
   },
   "outputs": [],
   "source": [
    "# Source: Global Monitoring Laboratory, NOAA\n",
    "\n",
    "# Global Monthly Mean CO2\n",
    "co2_mm_gl = \"https://gml.noaa.gov/webdata/ccgg/trends/co2/co2_mm_gl.txt\"\n",
    "\n",
    "# Daily Global CO2\n",
    "co2_trend_gl = \"https://gml.noaa.gov/webdata/ccgg/trends/co2/co2_trend_gl.txt\""
   ]
  },
  {
   "cell_type": "code",
   "execution_count": 3,
   "metadata": {
    "execution": {
     "iopub.execute_input": "2022-01-17T01:00:42.248010Z",
     "iopub.status.busy": "2022-01-17T01:00:42.247560Z",
     "iopub.status.idle": "2022-01-17T01:00:42.856342Z",
     "shell.execute_reply": "2022-01-17T01:00:42.855839Z"
    }
   },
   "outputs": [],
   "source": [
    "# Read the Global Monthly Mean CO2 file\n",
    "co2_mm_gl_df = pd.read_csv(co2_mm_gl, \n",
    "                         sep=r\"\\s+\", \n",
    "                         comment='#', \n",
    "                         names=[\"year\",\n",
    "                                \"month\", \n",
    "                                \"decimal\", \n",
    "                                \"average\", \n",
    "                                \"trend\"])"
   ]
  },
  {
   "cell_type": "code",
   "execution_count": 4,
   "metadata": {
    "execution": {
     "iopub.execute_input": "2022-01-17T01:00:42.870048Z",
     "iopub.status.busy": "2022-01-17T01:00:42.868875Z",
     "iopub.status.idle": "2022-01-17T01:00:42.870553Z",
     "shell.execute_reply": "2022-01-17T01:00:42.870907Z"
    }
   },
   "outputs": [],
   "source": [
    "co2_mm_gl_df[\"date_text\"] = co2_mm_gl_df.apply(lambda r: \"{} {}\".format(calendar.month_name[int(r[\"month\"])], \n",
    "                       int(r[\"year\"])), axis=1)"
   ]
  },
  {
   "cell_type": "code",
   "execution_count": 5,
   "metadata": {
    "execution": {
     "iopub.execute_input": "2022-01-17T01:00:42.876134Z",
     "iopub.status.busy": "2022-01-17T01:00:42.875249Z",
     "iopub.status.idle": "2022-01-17T01:00:42.877152Z",
     "shell.execute_reply": "2022-01-17T01:00:42.876772Z"
    }
   },
   "outputs": [],
   "source": [
    "# Get the most up-to-date Global Monthly Mean of CO2 reading\n",
    "last_month = co2_mm_gl_df.iloc[-1]\n",
    "\n",
    "# ...and compare it with that of the previous year\n",
    "prev_year = co2_mm_gl_df[co2_mm_gl_df[\"decimal\"] == last_month[\"decimal\"] - 1]"
   ]
  },
  {
   "cell_type": "code",
   "execution_count": 6,
   "metadata": {
    "execution": {
     "iopub.execute_input": "2022-01-17T01:00:42.881783Z",
     "iopub.status.busy": "2022-01-17T01:00:42.880734Z",
     "iopub.status.idle": "2022-01-17T01:00:42.882353Z",
     "shell.execute_reply": "2022-01-17T01:00:42.882707Z"
    }
   },
   "outputs": [],
   "source": [
    "boxtext = \"\"\n",
    "boxtext += \"{}: {} ppm\\n\".format(last_month[\"date_text\"], \n",
    "                              last_month[\"average\"])\n",
    "boxtext += \"{}: {} ppm\".format(prev_year[\"date_text\"].item(), \n",
    "                            prev_year[\"average\"].item())"
   ]
  },
  {
   "cell_type": "code",
   "execution_count": 7,
   "metadata": {
    "execution": {
     "iopub.execute_input": "2022-01-17T01:00:42.891137Z",
     "iopub.status.busy": "2022-01-17T01:00:42.884551Z",
     "iopub.status.idle": "2022-01-17T01:00:43.123250Z",
     "shell.execute_reply": "2022-01-17T01:00:43.123630Z"
    }
   },
   "outputs": [],
   "source": [
    "fig, ax = plt.subplots(figsize=(8, 6))\n",
    "ax.plot(co2_mm_gl_df[\"decimal\"], co2_mm_gl_df[\"average\"], c=\"tab:red\")\n",
    "ax.plot(co2_mm_gl_df[\"decimal\"], co2_mm_gl_df[\"trend\"], c=\"k\")\n",
    "min_year = min(co2_mm_gl_df[\"year\"])\n",
    "max_year = max(co2_mm_gl_df[\"year\"])\n",
    "ax.set_title(f\"Global Monthly Mean $CO_{2}$ ({min_year}-{max_year})\")\n",
    "ax.set_xlabel(\"Years\")\n",
    "ax.set_ylabel(\"ppm\")\n",
    "ax.text(0.95, 0.05, boxtext,\n",
    "        horizontalalignment='right', \n",
    "        color='white',\n",
    "        fontsize=14,\n",
    "        fontweight='bold',\n",
    "        verticalalignment='bottom',\n",
    "        bbox=dict(facecolor=\"green\", \n",
    "                  edgecolor=\"darkgreen\", \n",
    "                  boxstyle='round'),\n",
    "        transform=ax.transAxes)\n",
    "\n",
    "# Add last update date\n",
    "last_update = datetime.today().strftime(\"%d-%m-%Y %H:%M\")\n",
    "last_update_at = AnchoredText(f\"Last update: {last_update}\",\n",
    "                        borderpad=0., \n",
    "                        frameon=False, \n",
    "                        loc=3)\n",
    "ax.add_artist(last_update_at)\n",
    "ax.legend([\"Global Monthly Mean\", \"Global Trend\"])\n",
    "ax.grid(color=\"white\")\n",
    "plt.tight_layout()\n",
    "plt.show()"
   ]
  },
  {
   "cell_type": "code",
   "execution_count": 8,
   "metadata": {
    "execution": {
     "iopub.execute_input": "2022-01-17T01:00:43.127821Z",
     "iopub.status.busy": "2022-01-17T01:00:43.127350Z",
     "iopub.status.idle": "2022-01-17T01:00:43.877350Z",
     "shell.execute_reply": "2022-01-17T01:00:43.877792Z"
    }
   },
   "outputs": [],
   "source": [
    "# Read the Global daily CO2 file\n",
    "co2_trend_gl_df = pd.read_csv(co2_trend_gl, \n",
    "                        sep=r\"\\s+\", \n",
    "                        comment='#', \n",
    "                        names=[\"year\", \n",
    "                               \"month\", \n",
    "                               \"day\", \n",
    "                               \"cycle\", \n",
    "                               \"trend\"])"
   ]
  },
  {
   "cell_type": "code",
   "execution_count": 9,
   "metadata": {
    "execution": {
     "iopub.execute_input": "2022-01-17T01:00:43.880604Z",
     "iopub.status.busy": "2022-01-17T01:00:43.880141Z",
     "iopub.status.idle": "2022-01-17T01:00:43.949815Z",
     "shell.execute_reply": "2022-01-17T01:00:43.950206Z"
    }
   },
   "outputs": [],
   "source": [
    "# Create a Datetime column from year, month, day\n",
    "co2_trend_gl_df[\"date\"] = pd.to_datetime(co2_trend_gl_df[['year', \n",
    "                                              'month', \n",
    "                                              'day']])\n",
    "\n",
    "co2_trend_gl_df[\"date_str\"] = co2_trend_gl_df.apply(lambda r: \"{} {}\".format(calendar.month_name[int(r[\"month\"])], \n",
    "                       int(r[\"day\"])), axis=1)"
   ]
  },
  {
   "cell_type": "code",
   "execution_count": 10,
   "metadata": {
    "execution": {
     "iopub.execute_input": "2022-01-17T01:00:43.954545Z",
     "iopub.status.busy": "2022-01-17T01:00:43.953458Z",
     "iopub.status.idle": "2022-01-17T01:00:43.955109Z",
     "shell.execute_reply": "2022-01-17T01:00:43.955507Z"
    }
   },
   "outputs": [],
   "source": [
    "# Get the last 5 days\n",
    "last_5days_co2 = co2_trend_gl_df.tail(5)"
   ]
  },
  {
   "cell_type": "code",
   "execution_count": 11,
   "metadata": {
    "execution": {
     "iopub.execute_input": "2022-01-17T01:00:43.973312Z",
     "iopub.status.busy": "2022-01-17T01:00:43.971780Z",
     "iopub.status.idle": "2022-01-17T01:00:44.303545Z",
     "shell.execute_reply": "2022-01-17T01:00:44.303923Z"
    }
   },
   "outputs": [],
   "source": [
    "fig, ax = plt.subplots(figsize=(8, 6))\n",
    "ax.plot(co2_trend_gl_df[\"date\"], co2_trend_gl_df[\"cycle\"], c=\"tab:red\")\n",
    "ax.plot(co2_trend_gl_df[\"date\"], co2_trend_gl_df[\"trend\"], c=\"k\")\n",
    "min_year = min(co2_trend_gl_df[\"year\"])\n",
    "max_year = max(co2_trend_gl_df[\"year\"])\n",
    "ax.set_title(f\"Daily Global $CO_{2}$ ({min_year}-{max_year})\")\n",
    "ax.set_xlabel(\"Years\")\n",
    "ax.set_ylabel(\"ppm\")\n",
    "\n",
    "boxtext = \"\"\n",
    "for idx, row in last_5days_co2[::-1].iterrows():\n",
    "    if idx == last_5days_co2.index[0]:\n",
    "        boxtext += \"{}: {} ppm\".format(row[\"date_str\"], row[\"trend\"])\n",
    "    else:\n",
    "        boxtext += \"{}: {} ppm\\n\".format(row[\"date_str\"], row[\"trend\"])\n",
    "\n",
    "ax.text(0.95, 0.05, boxtext,\n",
    "        horizontalalignment='right', \n",
    "        color='white',\n",
    "        fontsize=14,\n",
    "        fontweight='bold',\n",
    "        verticalalignment='bottom',\n",
    "        bbox=dict(facecolor=\"green\", \n",
    "                  edgecolor=\"darkgreen\", \n",
    "                  boxstyle='round'),\n",
    "        transform=ax.transAxes)\n",
    "# Add last update date\n",
    "last_update = datetime.today().strftime(\"%d-%m-%Y %H:%M\")\n",
    "last_update_at = AnchoredText(f\"Last update: {last_update}\",\n",
    "                        borderpad=0., \n",
    "                        frameon=False, \n",
    "                        loc=3)\n",
    "ax.add_artist(last_update_at)\n",
    "ax.legend([\"Global Seasonal Cycle\", \"Global Trend\"])\n",
    "ax.grid(color=\"white\")\n",
    "plt.tight_layout()\n",
    "plt.savefig(\"09_DailyGlobalCO2.jpg\", dpi=300, bbox_inches='tight')\n",
    "plt.show()"
   ]
  }
 ],
 "metadata": {
  "interpreter": {
   "hash": "7b11ec4e63c99d8162a346e44061eab97ff71e663e3c205d951a4ad2f12c3cfa"
  },
  "kernelspec": {
   "display_name": "Python 3.7.10 64-bit (system)",
   "name": "python3"
  },
  "language_info": {
   "codemirror_mode": {
    "name": "ipython",
    "version": 3
   },
   "file_extension": ".py",
   "mimetype": "text/x-python",
   "name": "python",
   "nbconvert_exporter": "python",
   "pygments_lexer": "ipython3",
   "version": "3.7.5"
  }
 },
 "nbformat": 4,
 "nbformat_minor": 2
}
