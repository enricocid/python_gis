{
 "cells": [
  {
   "cell_type": "code",
   "execution_count": 1,
   "metadata": {
    "execution": {
     "iopub.execute_input": "2022-01-12T01:00:08.566133Z",
     "iopub.status.busy": "2022-01-12T01:00:08.565576Z",
     "iopub.status.idle": "2022-01-12T01:00:09.652759Z",
     "shell.execute_reply": "2022-01-12T01:00:09.651871Z"
    }
   },
   "outputs": [],
   "source": [
    "import calendar\n",
    "from datetime import datetime\n",
    "import pandas as pd\n",
    "import matplotlib\n",
    "import matplotlib.pyplot as plt\n",
    "from matplotlib.offsetbox import AnchoredText\n",
    "matplotlib.use('agg')\n",
    "plt.style.use('seaborn-darkgrid')"
   ]
  },
  {
   "cell_type": "code",
   "execution_count": 2,
   "metadata": {
    "execution": {
     "iopub.execute_input": "2022-01-12T01:00:09.656895Z",
     "iopub.status.busy": "2022-01-12T01:00:09.656368Z",
     "iopub.status.idle": "2022-01-12T01:00:09.659552Z",
     "shell.execute_reply": "2022-01-12T01:00:09.659138Z"
    }
   },
   "outputs": [],
   "source": [
    "# Source: Global Monitoring Laboratory, NOAA\n",
    "\n",
    "# Global Monthly Mean CO2\n",
    "co2_mm_gl = \"https://gml.noaa.gov/webdata/ccgg/trends/co2/co2_mm_gl.txt\"\n",
    "\n",
    "# Daily Global CO2\n",
    "co2_trend_gl = \"https://gml.noaa.gov/webdata/ccgg/trends/co2/co2_trend_gl.txt\""
   ]
  },
  {
   "cell_type": "code",
   "execution_count": 3,
   "metadata": {
    "execution": {
     "iopub.execute_input": "2022-01-12T01:00:09.664469Z",
     "iopub.status.busy": "2022-01-12T01:00:09.664021Z",
     "iopub.status.idle": "2022-01-12T01:00:10.147625Z",
     "shell.execute_reply": "2022-01-12T01:00:10.148044Z"
    }
   },
   "outputs": [],
   "source": [
    "# Read the Global Monthly Mean CO2 file\n",
    "co2_mm_gl_df = pd.read_csv(co2_mm_gl, \n",
    "                         sep=r\"\\s+\", \n",
    "                         comment='#', \n",
    "                         names=[\"year\",\n",
    "                                \"month\", \n",
    "                                \"decimal\", \n",
    "                                \"average\", \n",
    "                                \"trend\"])"
   ]
  },
  {
   "cell_type": "code",
   "execution_count": 4,
   "metadata": {
    "execution": {
     "iopub.execute_input": "2022-01-12T01:00:10.161092Z",
     "iopub.status.busy": "2022-01-12T01:00:10.160630Z",
     "iopub.status.idle": "2022-01-12T01:00:10.163376Z",
     "shell.execute_reply": "2022-01-12T01:00:10.163718Z"
    }
   },
   "outputs": [],
   "source": [
    "co2_mm_gl_df[\"date_text\"] = co2_mm_gl_df.apply(lambda r: \"{} {}\".format(calendar.month_name[int(r[\"month\"])], \n",
    "                       int(r[\"year\"])), axis=1)"
   ]
  },
  {
   "cell_type": "code",
   "execution_count": 5,
   "metadata": {
    "execution": {
     "iopub.execute_input": "2022-01-12T01:00:10.168286Z",
     "iopub.status.busy": "2022-01-12T01:00:10.165688Z",
     "iopub.status.idle": "2022-01-12T01:00:10.169804Z",
     "shell.execute_reply": "2022-01-12T01:00:10.170167Z"
    }
   },
   "outputs": [],
   "source": [
    "# Get the most up-to-date Global Monthly Mean of CO2 reading\n",
    "last_month = co2_mm_gl_df.iloc[-1]\n",
    "\n",
    "# ...and compare it with that of the previous year\n",
    "prev_year = co2_mm_gl_df[co2_mm_gl_df[\"decimal\"] == last_month[\"decimal\"] - 1]"
   ]
  },
  {
   "cell_type": "code",
   "execution_count": 6,
   "metadata": {
    "execution": {
     "iopub.execute_input": "2022-01-12T01:00:10.174031Z",
     "iopub.status.busy": "2022-01-12T01:00:10.172068Z",
     "iopub.status.idle": "2022-01-12T01:00:10.175572Z",
     "shell.execute_reply": "2022-01-12T01:00:10.175907Z"
    }
   },
   "outputs": [],
   "source": [
    "boxtext = \"\"\n",
    "boxtext += \"{}: {} ppm\\n\".format(last_month[\"date_text\"], \n",
    "                              last_month[\"average\"])\n",
    "boxtext += \"{}: {} ppm\".format(prev_year[\"date_text\"].item(), \n",
    "                            prev_year[\"average\"].item())"
   ]
  },
  {
   "cell_type": "code",
   "execution_count": 7,
   "metadata": {
    "execution": {
     "iopub.execute_input": "2022-01-12T01:00:10.185176Z",
     "iopub.status.busy": "2022-01-12T01:00:10.184655Z",
     "iopub.status.idle": "2022-01-12T01:00:10.420165Z",
     "shell.execute_reply": "2022-01-12T01:00:10.420538Z"
    }
   },
   "outputs": [],
   "source": [
    "fig, ax = plt.subplots(figsize=(8, 6))\n",
    "ax.plot(co2_mm_gl_df[\"decimal\"], co2_mm_gl_df[\"average\"], c=\"tab:red\")\n",
    "ax.plot(co2_mm_gl_df[\"decimal\"], co2_mm_gl_df[\"trend\"], c=\"k\")\n",
    "min_year = min(co2_mm_gl_df[\"year\"])\n",
    "max_year = max(co2_mm_gl_df[\"year\"])\n",
    "ax.set_title(f\"Global Monthly Mean $CO_{2}$ ({min_year}-{max_year})\")\n",
    "ax.set_xlabel(\"Years\")\n",
    "ax.set_ylabel(\"ppm\")\n",
    "ax.text(0.95, 0.05, boxtext,\n",
    "        horizontalalignment='right', \n",
    "        color='white',\n",
    "        fontsize=14,\n",
    "        fontweight='bold',\n",
    "        verticalalignment='bottom',\n",
    "        bbox=dict(facecolor=\"green\", \n",
    "                  edgecolor=\"darkgreen\", \n",
    "                  boxstyle='round'),\n",
    "        transform=ax.transAxes)\n",
    "\n",
    "# Add last update date\n",
    "last_update = datetime.today().strftime(\"%d-%m-%Y %H:%M\")\n",
    "last_update_at = AnchoredText(f\"Last update: {last_update}\",\n",
    "                        borderpad=0., \n",
    "                        frameon=False, \n",
    "                        loc=3)\n",
    "ax.add_artist(last_update_at)\n",
    "ax.legend([\"Global Monthly Mean\", \"Global Trend\"])\n",
    "ax.grid(color=\"white\")\n",
    "plt.tight_layout()\n",
    "plt.show()"
   ]
  },
  {
   "cell_type": "code",
   "execution_count": 8,
   "metadata": {
    "execution": {
     "iopub.execute_input": "2022-01-12T01:00:10.424965Z",
     "iopub.status.busy": "2022-01-12T01:00:10.424159Z",
     "iopub.status.idle": "2022-01-12T01:00:10.951417Z",
     "shell.execute_reply": "2022-01-12T01:00:10.950943Z"
    }
   },
   "outputs": [],
   "source": [
    "# Read the Global daily CO2 file\n",
    "co2_trend_gl_df = pd.read_csv(co2_trend_gl, \n",
    "                        sep=r\"\\s+\", \n",
    "                        comment='#', \n",
    "                        names=[\"year\", \n",
    "                               \"month\", \n",
    "                               \"day\", \n",
    "                               \"cycle\", \n",
    "                               \"trend\"])"
   ]
  },
  {
   "cell_type": "code",
   "execution_count": 9,
   "metadata": {
    "execution": {
     "iopub.execute_input": "2022-01-12T01:00:10.987033Z",
     "iopub.status.busy": "2022-01-12T01:00:10.966342Z",
     "iopub.status.idle": "2022-01-12T01:00:11.025458Z",
     "shell.execute_reply": "2022-01-12T01:00:11.025869Z"
    }
   },
   "outputs": [],
   "source": [
    "# Create a Datetime column from year, month, day\n",
    "co2_trend_gl_df[\"date\"] = pd.to_datetime(co2_trend_gl_df[['year', \n",
    "                                              'month', \n",
    "                                              'day']])\n",
    "\n",
    "co2_trend_gl_df[\"date_str\"] = co2_trend_gl_df.apply(lambda r: \"{} {}\".format(calendar.month_name[int(r[\"month\"])], \n",
    "                       int(r[\"day\"])), axis=1)"
   ]
  },
  {
   "cell_type": "code",
   "execution_count": 10,
   "metadata": {
    "execution": {
     "iopub.execute_input": "2022-01-12T01:00:11.029275Z",
     "iopub.status.busy": "2022-01-12T01:00:11.028835Z",
     "iopub.status.idle": "2022-01-12T01:00:11.031752Z",
     "shell.execute_reply": "2022-01-12T01:00:11.031387Z"
    }
   },
   "outputs": [],
   "source": [
    "# Get the last 5 days\n",
    "last_5days_co2 = co2_trend_gl_df.tail(5)"
   ]
  },
  {
   "cell_type": "code",
   "execution_count": 11,
   "metadata": {
    "execution": {
     "iopub.execute_input": "2022-01-12T01:00:11.051972Z",
     "iopub.status.busy": "2022-01-12T01:00:11.047127Z",
     "iopub.status.idle": "2022-01-12T01:00:11.382910Z",
     "shell.execute_reply": "2022-01-12T01:00:11.383290Z"
    }
   },
   "outputs": [],
   "source": [
    "fig, ax = plt.subplots(figsize=(8, 6))\n",
    "ax.plot(co2_trend_gl_df[\"date\"], co2_trend_gl_df[\"cycle\"], c=\"tab:red\")\n",
    "ax.plot(co2_trend_gl_df[\"date\"], co2_trend_gl_df[\"trend\"], c=\"k\")\n",
    "min_year = min(co2_trend_gl_df[\"year\"])\n",
    "max_year = max(co2_trend_gl_df[\"year\"])\n",
    "ax.set_title(f\"Daily Global $CO_{2}$ ({min_year}-{max_year})\")\n",
    "ax.set_xlabel(\"Years\")\n",
    "ax.set_ylabel(\"ppm\")\n",
    "\n",
    "boxtext = \"\"\n",
    "for idx, row in last_5days_co2[::-1].iterrows():\n",
    "    if idx == last_5days_co2.index[0]:\n",
    "        boxtext += \"{}: {} ppm\".format(row[\"date_str\"], row[\"trend\"])\n",
    "    else:\n",
    "        boxtext += \"{}: {} ppm\\n\".format(row[\"date_str\"], row[\"trend\"])\n",
    "\n",
    "ax.text(0.95, 0.05, boxtext,\n",
    "        horizontalalignment='right', \n",
    "        color='white',\n",
    "        fontsize=14,\n",
    "        fontweight='bold',\n",
    "        verticalalignment='bottom',\n",
    "        bbox=dict(facecolor=\"green\", \n",
    "                  edgecolor=\"darkgreen\", \n",
    "                  boxstyle='round'),\n",
    "        transform=ax.transAxes)\n",
    "# Add last update date\n",
    "last_update = datetime.today().strftime(\"%d-%m-%Y %H:%M\")\n",
    "last_update_at = AnchoredText(f\"Last update: {last_update}\",\n",
    "                        borderpad=0., \n",
    "                        frameon=False, \n",
    "                        loc=3)\n",
    "ax.add_artist(last_update_at)\n",
    "ax.legend([\"Global Seasonal Cycle\", \"Global Trend\"])\n",
    "ax.grid(color=\"white\")\n",
    "plt.tight_layout()\n",
    "plt.savefig(\"09_DailyGlobalCO2.jpg\", dpi=300, bbox_inches='tight')\n",
    "plt.show()"
   ]
  }
 ],
 "metadata": {
  "interpreter": {
   "hash": "7b11ec4e63c99d8162a346e44061eab97ff71e663e3c205d951a4ad2f12c3cfa"
  },
  "kernelspec": {
   "display_name": "Python 3.7.10 64-bit (system)",
   "name": "python3"
  },
  "language_info": {
   "codemirror_mode": {
    "name": "ipython",
    "version": 3
   },
   "file_extension": ".py",
   "mimetype": "text/x-python",
   "name": "python",
   "nbconvert_exporter": "python",
   "pygments_lexer": "ipython3",
   "version": "3.7.5"
  }
 },
 "nbformat": 4,
 "nbformat_minor": 2
}
