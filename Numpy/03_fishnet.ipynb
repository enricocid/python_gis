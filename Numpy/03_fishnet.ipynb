{
  "nbformat": 4,
  "nbformat_minor": 0,
  "metadata": {
    "colab": {
      "name": "03_fishnet.ipynb",
      "provenance": [],
      "collapsed_sections": []
    },
    "kernelspec": {
      "name": "python3",
      "display_name": "Python 3"
    },
    "language_info": {
      "name": "python"
    }
  },
  "cells": [
    {
      "cell_type": "code",
      "metadata": {
        "id": "nXpgUt1rQsLQ"
      },
      "source": [
        "import numpy as np\n",
        "import matplotlib.pyplot as plt"
      ],
      "execution_count": 1,
      "outputs": []
    },
    {
      "cell_type": "code",
      "metadata": {
        "id": "Rn7671OEPsV1"
      },
      "source": [
        "# Create a polygon\n",
        "poly_a = np.array([(30,10), (40,40), (20,40), (10,20), (30,10)])\n",
        "\n",
        "# Get the bounding box\n",
        "minx, miny, maxx, maxy = min(poly_a[:,0]), min(poly_a[:,1]), max(poly_a[:,0]), max(poly_a[:,1])\n",
        "\n",
        "# Grid width/length\n",
        "widthx = 10\n",
        "widthy = 10\n",
        "\n",
        "# Columns/rows\n",
        "columns = range(int(np.floor(minx)), int(np.ceil(maxx)), widthx)\n",
        "rows = range(int(np.floor(miny)), int(np.ceil(maxy)), widthy)[::-1]"
      ],
      "execution_count": 2,
      "outputs": []
    },
    {
      "cell_type": "code",
      "metadata": {
        "id": "SAXsc_botnsf"
      },
      "source": [
        "# Create the fishnet\n",
        "fishnet = [np.array([(x, y), (x + widthx, y), (x + widthx, y - widthy), (x, y - widthy)]) for x in columns for y in rows]"
      ],
      "execution_count": 3,
      "outputs": []
    },
    {
      "cell_type": "code",
      "metadata": {
        "colab": {
          "base_uri": "https://localhost:8080/",
          "height": 265
        },
        "id": "5YNaFJzWQ0n3",
        "outputId": "15206d49-c115-49f0-8bb0-e9beb7327a00"
      },
      "source": [
        "# Creates a figure and one subplot\n",
        "fig, ax = plt.subplots()\n",
        "\n",
        "# Plot each grid\n",
        "for gridnum, grid in enumerate(fishnet):\n",
        "   \n",
        "   # Calculate the center of each grid\n",
        "   cx = (max(grid[:,0]) + min(grid[:,0]))/2\n",
        "   cy = (max(grid[:,1]) + min(grid[:,1]))/2\n",
        "\n",
        "   # Plot and annotate the polygon\n",
        "   ax.fill(grid[:,0], grid[:,1], c=\"b\", alpha=0.2)\n",
        "   ax.annotate(f\"{gridnum+1}\", (cx, cy),\n",
        "               ha='center', va='center', color=\"k\")\n",
        "\n",
        "# Show the plot\n",
        "ax.set_aspect('equal', adjustable='datalim')\n",
        "plt.show()"
      ],
      "execution_count": 4,
      "outputs": [
        {
          "output_type": "display_data",
          "data": {
            "image/png": "[encoded data removed]",
            "text/plain": [
              "<Figure size 432x288 with 1 Axes>"
            ]
          },
          "metadata": {
            "needs_background": "light"
          }
        }
      ]
    }
  ]
}